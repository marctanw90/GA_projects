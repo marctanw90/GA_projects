{
 "cells": [
  {
   "cell_type": "markdown",
   "id": "c413526d",
   "metadata": {},
   "source": [
    "# Project 3 - Web APIs and NLP Classification\n",
    "\n",
    "## Part 3: Modelling & Conclusion\n",
    "* import from previous notebook using pickle"
   ]
  },
  {
   "cell_type": "code",
   "execution_count": 1,
   "id": "97f6cf19",
   "metadata": {},
   "outputs": [],
   "source": [
    "# Imports\n",
    "import pandas as pd\n",
    "import numpy as np\n",
    "import seaborn as sns\n",
    "import matplotlib.pyplot as plt\n",
    "\n",
    "\n",
    "from nltk.tokenize import RegexpTokenizer\n",
    "from nltk import WordNetLemmatizer\n",
    "from nltk.stem import PorterStemmer\n",
    "from nltk.corpus import stopwords\n",
    "\n",
    "from sklearn.feature_extraction.text import CountVectorizer, TfidfVectorizer\n",
    "from sklearn.model_selection import train_test_split, cross_val_score, GridSearchCV\n",
    "from sklearn.pipeline import Pipeline\n",
    "from sklearn.linear_model import LogisticRegression\n",
    "from sklearn.naive_bayes import MultinomialNB\n",
    "from sklearn.ensemble import RandomForestClassifier\n",
    "from sklearn import metrics\n",
    "from sklearn.metrics import confusion_matrix, ConfusionMatrixDisplay, accuracy_score, plot_roc_curve, roc_auc_score, recall_score, precision_score, f1_score\n",
    "\n",
    "pd.set_option(\"max_columns\", None)\n",
    "pd.set_option(\"max_rows\", None)\n",
    "pd.set_option('max_colwidth', 200)"
   ]
  },
  {
   "cell_type": "code",
   "execution_count": 2,
   "id": "b1d9125d",
   "metadata": {},
   "outputs": [],
   "source": [
    "df_combined = pd.read_pickle(\"./data/df_combined.pkl\")"
   ]
  },
  {
   "cell_type": "code",
   "execution_count": 3,
   "id": "3f0648d6",
   "metadata": {},
   "outputs": [
    {
     "data": {
      "text/plain": [
       "(3750, 18)"
      ]
     },
     "execution_count": 3,
     "metadata": {},
     "output_type": "execute_result"
    }
   ],
   "source": [
    "df_combined.shape"
   ]
  },
  {
   "cell_type": "code",
   "execution_count": 4,
   "id": "b5d17e72",
   "metadata": {
    "scrolled": true
   },
   "outputs": [
    {
     "data": {
      "text/html": [
       "<div>\n",
       "<style scoped>\n",
       "    .dataframe tbody tr th:only-of-type {\n",
       "        vertical-align: middle;\n",
       "    }\n",
       "\n",
       "    .dataframe tbody tr th {\n",
       "        vertical-align: top;\n",
       "    }\n",
       "\n",
       "    .dataframe thead th {\n",
       "        text-align: right;\n",
       "    }\n",
       "</style>\n",
       "<table border=\"1\" class=\"dataframe\">\n",
       "  <thead>\n",
       "    <tr style=\"text-align: right;\">\n",
       "      <th></th>\n",
       "      <th>title</th>\n",
       "      <th>selftext</th>\n",
       "      <th>subreddit</th>\n",
       "      <th>alltext</th>\n",
       "      <th>title_tokens</th>\n",
       "      <th>selftext_tokens</th>\n",
       "      <th>alltext_tokens</th>\n",
       "      <th>cleaned_title</th>\n",
       "      <th>cleaned_selftext</th>\n",
       "      <th>cleaned_alltext</th>\n",
       "      <th>title_length</th>\n",
       "      <th>selftext_length</th>\n",
       "      <th>alltext_length</th>\n",
       "      <th>title_count</th>\n",
       "      <th>selftext_count</th>\n",
       "      <th>alltext_count</th>\n",
       "      <th>alltext_lem</th>\n",
       "      <th>alltext_pstem</th>\n",
       "    </tr>\n",
       "  </thead>\n",
       "  <tbody>\n",
       "    <tr>\n",
       "      <th>0</th>\n",
       "      <td>Question: What is ether miners plan post-merge?</td>\n",
       "      <td>No date is confirmed yet for the merge, but I'm curious what miners are planning to do when that happens. Do they move to ETC, slowly scale down, or just ignore the move altogether?</td>\n",
       "      <td>EtherMining</td>\n",
       "      <td>question what is ether miners plan postmerge no date is confirmed yet for the merge but im curious what miners are planning to do when that happens do they move to etc slowly scale down or just ig...</td>\n",
       "      <td>[question, what, is, ether, miners, plan, post, merge]</td>\n",
       "      <td>[no, date, is, confirmed, yet, for, the, merge, but, i, m, curious, what, miners, are, planning, to, do, when, that, happens, do, they, move, to, etc, slowly, scale, down, or, just, ignore, the, m...</td>\n",
       "      <td>[question, what, is, ether, miners, plan, postmerge, no, date, is, confirmed, yet, for, the, merge, but, im, curious, what, miners, are, planning, to, do, when, that, happens, do, they, move, to, ...</td>\n",
       "      <td>[question, ether, miners, plan, post, merge]</td>\n",
       "      <td>[date, confirmed, yet, merge, curious, miners, planning, happens, move, etc, slowly, scale, ignore, move, altogether]</td>\n",
       "      <td>[question, ether, miners, plan, postmerge, date, confirmed, yet, merge, im, curious, miners, planning, happens, move, etc, slowly, scale, ignore, move, altogether]</td>\n",
       "      <td>47</td>\n",
       "      <td>181</td>\n",
       "      <td>220</td>\n",
       "      <td>7</td>\n",
       "      <td>34</td>\n",
       "      <td>41</td>\n",
       "      <td>[question, what, is, ether, miner, plan, postmerge, no, date, is, confirmed, yet, for, the, merge, but, im, curious, what, miner, are, planning, to, do, when, that, happens, do, they, move, to, et...</td>\n",
       "      <td>[question, what, is, ether, miner, plan, postmerg, no, date, is, confirm, yet, for, the, merg, but, im, curiou, what, miner, are, plan, to, do, when, that, happen, do, they, move, to, etc, slowli,...</td>\n",
       "    </tr>\n",
       "    <tr>\n",
       "      <th>1</th>\n",
       "      <td>WTS:Ipollo V1mini 300Mh/240watt for ETH brand new stock</td>\n",
       "      <td></td>\n",
       "      <td>EtherMining</td>\n",
       "      <td>wtsipollo v1mini 300mh240watt for eth brand new stock</td>\n",
       "      <td>[wts, ipollo, v1mini, 300mh, 240watt, for, eth, brand, new, stock]</td>\n",
       "      <td>[]</td>\n",
       "      <td>[wtsipollo, v1mini, 300mh240watt, for, eth, brand, new, stock]</td>\n",
       "      <td>[wts, ipollo, v1mini, 300mh, 240watt, eth, brand, new, stock]</td>\n",
       "      <td>[]</td>\n",
       "      <td>[wtsipollo, v1mini, 300mh240watt, eth, brand, new, stock]</td>\n",
       "      <td>55</td>\n",
       "      <td>0</td>\n",
       "      <td>53</td>\n",
       "      <td>8</td>\n",
       "      <td>0</td>\n",
       "      <td>8</td>\n",
       "      <td>[wtsipollo, v1mini, 300mh240watt, for, eth, brand, new, stock]</td>\n",
       "      <td>[wtsipollo, v1mini, 300mh240watt, for, eth, brand, new, stock]</td>\n",
       "    </tr>\n",
       "    <tr>\n",
       "      <th>2</th>\n",
       "      <td>I dont know why miner getting offline automatically, why this gape in hivos graph</td>\n",
       "      <td></td>\n",
       "      <td>EtherMining</td>\n",
       "      <td>i dont know why miner getting offline automatically why this gape in hivos graph</td>\n",
       "      <td>[i, dont, know, why, miner, getting, offline, automatically, why, this, gape, in, hivos, graph]</td>\n",
       "      <td>[]</td>\n",
       "      <td>[i, dont, know, why, miner, getting, offline, automatically, why, this, gape, in, hivos, graph]</td>\n",
       "      <td>[dont, know, miner, getting, offline, automatically, gape, hivos, graph]</td>\n",
       "      <td>[]</td>\n",
       "      <td>[dont, know, miner, getting, offline, automatically, gape, hivos, graph]</td>\n",
       "      <td>81</td>\n",
       "      <td>0</td>\n",
       "      <td>80</td>\n",
       "      <td>14</td>\n",
       "      <td>0</td>\n",
       "      <td>14</td>\n",
       "      <td>[i, dont, know, why, miner, getting, offline, automatically, why, this, gape, in, hivos, graph]</td>\n",
       "      <td>[i, dont, know, whi, miner, get, offlin, automat, whi, thi, gape, in, hivo, graph]</td>\n",
       "    </tr>\n",
       "    <tr>\n",
       "      <th>3</th>\n",
       "      <td>Miner getting offline</td>\n",
       "      <td>I dont know why miner getting offline automatically, why this gape in hivos graph</td>\n",
       "      <td>EtherMining</td>\n",
       "      <td>miner getting offline i dont know why miner getting offline automatically why this gape in hivos graph</td>\n",
       "      <td>[miner, getting, offline]</td>\n",
       "      <td>[i, dont, know, why, miner, getting, offline, automatically, why, this, gape, in, hivos, graph]</td>\n",
       "      <td>[miner, getting, offline, i, dont, know, why, miner, getting, offline, automatically, why, this, gape, in, hivos, graph]</td>\n",
       "      <td>[miner, getting, offline]</td>\n",
       "      <td>[dont, know, miner, getting, offline, automatically, gape, hivos, graph]</td>\n",
       "      <td>[miner, getting, offline, dont, know, miner, getting, offline, automatically, gape, hivos, graph]</td>\n",
       "      <td>21</td>\n",
       "      <td>81</td>\n",
       "      <td>102</td>\n",
       "      <td>3</td>\n",
       "      <td>14</td>\n",
       "      <td>17</td>\n",
       "      <td>[miner, getting, offline, i, dont, know, why, miner, getting, offline, automatically, why, this, gape, in, hivos, graph]</td>\n",
       "      <td>[miner, get, offlin, i, dont, know, whi, miner, get, offlin, automat, whi, thi, gape, in, hivo, graph]</td>\n",
       "    </tr>\n",
       "    <tr>\n",
       "      <th>4</th>\n",
       "      <td>nicehash wallet with hiveos</td>\n",
       "      <td>Hey all, I understand I can use nicehash pool, servers etc when using hiveos by selecting nicehash coins, and pools. Can you mine any coin in hiveos and set it to your nicehash wallet for auto con...</td>\n",
       "      <td>EtherMining</td>\n",
       "      <td>nicehash wallet with hiveos hey all i understand i can use nicehash pool servers etc when using hiveos by selecting nicehash coins and pools can you mine any coin in hiveos and set it to your nice...</td>\n",
       "      <td>[nicehash, wallet, with, hiveos]</td>\n",
       "      <td>[hey, all, i, understand, i, can, use, nicehash, pool, servers, etc, when, using, hiveos, by, selecting, nicehash, coins, and, pools, can, you, mine, any, coin, in, hiveos, and, set, it, to, your,...</td>\n",
       "      <td>[nicehash, wallet, with, hiveos, hey, all, i, understand, i, can, use, nicehash, pool, servers, etc, when, using, hiveos, by, selecting, nicehash, coins, and, pools, can, you, mine, any, coin, in,...</td>\n",
       "      <td>[nicehash, wallet, hiveos]</td>\n",
       "      <td>[hey, understand, use, nicehash, pool, servers, etc, using, hiveos, selecting, nicehash, coins, pools, mine, coin, hiveos, set, nicehash, wallet, auto, conversion, like, could, mine, flux, input, ...</td>\n",
       "      <td>[nicehash, wallet, hiveos, hey, understand, use, nicehash, pool, servers, etc, using, hiveos, selecting, nicehash, coins, pools, mine, coin, hiveos, set, nicehash, wallet, auto, conversion, like, ...</td>\n",
       "      <td>27</td>\n",
       "      <td>307</td>\n",
       "      <td>326</td>\n",
       "      <td>4</td>\n",
       "      <td>56</td>\n",
       "      <td>59</td>\n",
       "      <td>[nicehash, wallet, with, hiveos, hey, all, i, understand, i, can, use, nicehash, pool, server, etc, when, using, hiveos, by, selecting, nicehash, coin, and, pool, can, you, mine, any, coin, in, hi...</td>\n",
       "      <td>[nicehash, wallet, with, hiveo, hey, all, i, understand, i, can, use, nicehash, pool, server, etc, when, use, hiveo, by, select, nicehash, coin, and, pool, can, you, mine, ani, coin, in, hiveo, an...</td>\n",
       "    </tr>\n",
       "  </tbody>\n",
       "</table>\n",
       "</div>"
      ],
      "text/plain": [
       "                                                                               title  \\\n",
       "0                                    Question: What is ether miners plan post-merge?   \n",
       "1                            WTS:Ipollo V1mini 300Mh/240watt for ETH brand new stock   \n",
       "2  I dont know why miner getting offline automatically, why this gape in hivos graph   \n",
       "3                                                              Miner getting offline   \n",
       "4                                                        nicehash wallet with hiveos   \n",
       "\n",
       "                                                                                                                                                                                                  selftext  \\\n",
       "0                    No date is confirmed yet for the merge, but I'm curious what miners are planning to do when that happens. Do they move to ETC, slowly scale down, or just ignore the move altogether?   \n",
       "1                                                                                                                                                                                                            \n",
       "2                                                                                                                                                                                                            \n",
       "3                                                                                                                        I dont know why miner getting offline automatically, why this gape in hivos graph   \n",
       "4  Hey all, I understand I can use nicehash pool, servers etc when using hiveos by selecting nicehash coins, and pools. Can you mine any coin in hiveos and set it to your nicehash wallet for auto con...   \n",
       "\n",
       "     subreddit  \\\n",
       "0  EtherMining   \n",
       "1  EtherMining   \n",
       "2  EtherMining   \n",
       "3  EtherMining   \n",
       "4  EtherMining   \n",
       "\n",
       "                                                                                                                                                                                                   alltext  \\\n",
       "0  question what is ether miners plan postmerge no date is confirmed yet for the merge but im curious what miners are planning to do when that happens do they move to etc slowly scale down or just ig...   \n",
       "1                                                                                                                                                    wtsipollo v1mini 300mh240watt for eth brand new stock   \n",
       "2                                                                                                                         i dont know why miner getting offline automatically why this gape in hivos graph   \n",
       "3                                                                                                   miner getting offline i dont know why miner getting offline automatically why this gape in hivos graph   \n",
       "4  nicehash wallet with hiveos hey all i understand i can use nicehash pool servers etc when using hiveos by selecting nicehash coins and pools can you mine any coin in hiveos and set it to your nice...   \n",
       "\n",
       "                                                                                      title_tokens  \\\n",
       "0                                           [question, what, is, ether, miners, plan, post, merge]   \n",
       "1                               [wts, ipollo, v1mini, 300mh, 240watt, for, eth, brand, new, stock]   \n",
       "2  [i, dont, know, why, miner, getting, offline, automatically, why, this, gape, in, hivos, graph]   \n",
       "3                                                                        [miner, getting, offline]   \n",
       "4                                                                 [nicehash, wallet, with, hiveos]   \n",
       "\n",
       "                                                                                                                                                                                           selftext_tokens  \\\n",
       "0  [no, date, is, confirmed, yet, for, the, merge, but, i, m, curious, what, miners, are, planning, to, do, when, that, happens, do, they, move, to, etc, slowly, scale, down, or, just, ignore, the, m...   \n",
       "1                                                                                                                                                                                                       []   \n",
       "2                                                                                                                                                                                                       []   \n",
       "3                                                                                                          [i, dont, know, why, miner, getting, offline, automatically, why, this, gape, in, hivos, graph]   \n",
       "4  [hey, all, i, understand, i, can, use, nicehash, pool, servers, etc, when, using, hiveos, by, selecting, nicehash, coins, and, pools, can, you, mine, any, coin, in, hiveos, and, set, it, to, your,...   \n",
       "\n",
       "                                                                                                                                                                                            alltext_tokens  \\\n",
       "0  [question, what, is, ether, miners, plan, postmerge, no, date, is, confirmed, yet, for, the, merge, but, im, curious, what, miners, are, planning, to, do, when, that, happens, do, they, move, to, ...   \n",
       "1                                                                                                                                           [wtsipollo, v1mini, 300mh240watt, for, eth, brand, new, stock]   \n",
       "2                                                                                                          [i, dont, know, why, miner, getting, offline, automatically, why, this, gape, in, hivos, graph]   \n",
       "3                                                                                 [miner, getting, offline, i, dont, know, why, miner, getting, offline, automatically, why, this, gape, in, hivos, graph]   \n",
       "4  [nicehash, wallet, with, hiveos, hey, all, i, understand, i, can, use, nicehash, pool, servers, etc, when, using, hiveos, by, selecting, nicehash, coins, and, pools, can, you, mine, any, coin, in,...   \n",
       "\n",
       "                                                              cleaned_title  \\\n",
       "0                              [question, ether, miners, plan, post, merge]   \n",
       "1             [wts, ipollo, v1mini, 300mh, 240watt, eth, brand, new, stock]   \n",
       "2  [dont, know, miner, getting, offline, automatically, gape, hivos, graph]   \n",
       "3                                                 [miner, getting, offline]   \n",
       "4                                                [nicehash, wallet, hiveos]   \n",
       "\n",
       "                                                                                                                                                                                          cleaned_selftext  \\\n",
       "0                                                                                    [date, confirmed, yet, merge, curious, miners, planning, happens, move, etc, slowly, scale, ignore, move, altogether]   \n",
       "1                                                                                                                                                                                                       []   \n",
       "2                                                                                                                                                                                                       []   \n",
       "3                                                                                                                                 [dont, know, miner, getting, offline, automatically, gape, hivos, graph]   \n",
       "4  [hey, understand, use, nicehash, pool, servers, etc, using, hiveos, selecting, nicehash, coins, pools, mine, coin, hiveos, set, nicehash, wallet, auto, conversion, like, could, mine, flux, input, ...   \n",
       "\n",
       "                                                                                                                                                                                           cleaned_alltext  \\\n",
       "0                                      [question, ether, miners, plan, postmerge, date, confirmed, yet, merge, im, curious, miners, planning, happens, move, etc, slowly, scale, ignore, move, altogether]   \n",
       "1                                                                                                                                                [wtsipollo, v1mini, 300mh240watt, eth, brand, new, stock]   \n",
       "2                                                                                                                                 [dont, know, miner, getting, offline, automatically, gape, hivos, graph]   \n",
       "3                                                                                                        [miner, getting, offline, dont, know, miner, getting, offline, automatically, gape, hivos, graph]   \n",
       "4  [nicehash, wallet, hiveos, hey, understand, use, nicehash, pool, servers, etc, using, hiveos, selecting, nicehash, coins, pools, mine, coin, hiveos, set, nicehash, wallet, auto, conversion, like, ...   \n",
       "\n",
       "   title_length  selftext_length  alltext_length  title_count  selftext_count  \\\n",
       "0            47              181             220            7              34   \n",
       "1            55                0              53            8               0   \n",
       "2            81                0              80           14               0   \n",
       "3            21               81             102            3              14   \n",
       "4            27              307             326            4              56   \n",
       "\n",
       "   alltext_count  \\\n",
       "0             41   \n",
       "1              8   \n",
       "2             14   \n",
       "3             17   \n",
       "4             59   \n",
       "\n",
       "                                                                                                                                                                                               alltext_lem  \\\n",
       "0  [question, what, is, ether, miner, plan, postmerge, no, date, is, confirmed, yet, for, the, merge, but, im, curious, what, miner, are, planning, to, do, when, that, happens, do, they, move, to, et...   \n",
       "1                                                                                                                                           [wtsipollo, v1mini, 300mh240watt, for, eth, brand, new, stock]   \n",
       "2                                                                                                          [i, dont, know, why, miner, getting, offline, automatically, why, this, gape, in, hivos, graph]   \n",
       "3                                                                                 [miner, getting, offline, i, dont, know, why, miner, getting, offline, automatically, why, this, gape, in, hivos, graph]   \n",
       "4  [nicehash, wallet, with, hiveos, hey, all, i, understand, i, can, use, nicehash, pool, server, etc, when, using, hiveos, by, selecting, nicehash, coin, and, pool, can, you, mine, any, coin, in, hi...   \n",
       "\n",
       "                                                                                                                                                                                             alltext_pstem  \n",
       "0  [question, what, is, ether, miner, plan, postmerg, no, date, is, confirm, yet, for, the, merg, but, im, curiou, what, miner, are, plan, to, do, when, that, happen, do, they, move, to, etc, slowli,...  \n",
       "1                                                                                                                                           [wtsipollo, v1mini, 300mh240watt, for, eth, brand, new, stock]  \n",
       "2                                                                                                                       [i, dont, know, whi, miner, get, offlin, automat, whi, thi, gape, in, hivo, graph]  \n",
       "3                                                                                                   [miner, get, offlin, i, dont, know, whi, miner, get, offlin, automat, whi, thi, gape, in, hivo, graph]  \n",
       "4  [nicehash, wallet, with, hiveo, hey, all, i, understand, i, can, use, nicehash, pool, server, etc, when, use, hiveo, by, select, nicehash, coin, and, pool, can, you, mine, ani, coin, in, hiveo, an...  "
      ]
     },
     "execution_count": 4,
     "metadata": {},
     "output_type": "execute_result"
    }
   ],
   "source": [
    "df_combined.head()"
   ]
  },
  {
   "cell_type": "code",
   "execution_count": 5,
   "id": "3859ca26",
   "metadata": {
    "scrolled": false
   },
   "outputs": [
    {
     "data": {
      "text/plain": [
       "EtherMining       1875\n",
       "CryptoCurrency    1875\n",
       "Name: subreddit, dtype: int64"
      ]
     },
     "execution_count": 5,
     "metadata": {},
     "output_type": "execute_result"
    }
   ],
   "source": [
    "#checking for data imbalance\n",
    "df_combined['subreddit'].value_counts()"
   ]
  },
  {
   "cell_type": "markdown",
   "id": "e84c2f22",
   "metadata": {},
   "source": [
    "we have a balanced dataset from our valuecounts of each subreddit"
   ]
  },
  {
   "cell_type": "code",
   "execution_count": 6,
   "id": "b2d8500b",
   "metadata": {},
   "outputs": [],
   "source": [
    "#Convert target feature column to numerical values\n",
    "df_combined['subreddit']= df_combined['subreddit'].map({'EtherMining': 0, 'CryptoCurrency': 1})"
   ]
  },
  {
   "cell_type": "code",
   "execution_count": 7,
   "id": "8a1ff126",
   "metadata": {},
   "outputs": [],
   "source": [
    "#adding additional stopwords derived from EDA earlier\n",
    "add_stop = ['crypto', 'mining', 'cryptocurrency', 'ethermining', 'ampx200b']\n",
    "stoplist = stopwords.words('english') + add_stop"
   ]
  },
  {
   "cell_type": "markdown",
   "id": "1464e98b",
   "metadata": {},
   "source": [
    "### Defining X & y variables and Train test split"
   ]
  },
  {
   "cell_type": "code",
   "execution_count": 8,
   "id": "51aff436",
   "metadata": {},
   "outputs": [],
   "source": [
    "#Define X, y and perform Train test split\n",
    "X = df_combined['alltext']\n",
    "y = df_combined['subreddit']\n",
    "\n",
    "X_train, X_test, y_train, y_test = train_test_split(X, y, stratify = y, random_state=42)"
   ]
  },
  {
   "cell_type": "code",
   "execution_count": 9,
   "id": "679faae1",
   "metadata": {
    "scrolled": true
   },
   "outputs": [
    {
     "name": "stdout",
     "output_type": "stream",
     "text": [
      "Training Shape: (2812,)\n",
      "Testing Shape: (938,)\n"
     ]
    }
   ],
   "source": [
    "print('Training Shape:', X_train.shape)\n",
    "print('Testing Shape:', X_test.shape)"
   ]
  },
  {
   "cell_type": "markdown",
   "id": "eac2e47f",
   "metadata": {},
   "source": [
    "### Baseline accuracy"
   ]
  },
  {
   "cell_type": "code",
   "execution_count": 10,
   "id": "70189199",
   "metadata": {},
   "outputs": [
    {
     "data": {
      "text/plain": [
       "0    0.5\n",
       "1    0.5\n",
       "Name: subreddit, dtype: float64"
      ]
     },
     "execution_count": 10,
     "metadata": {},
     "output_type": "execute_result"
    }
   ],
   "source": [
    "#baseline accuracy\n",
    "y_test.value_counts(normalize = True)"
   ]
  },
  {
   "cell_type": "markdown",
   "id": "a3eae344",
   "metadata": {},
   "source": [
    "### Setting up pipelines for Models"
   ]
  },
  {
   "cell_type": "code",
   "execution_count": 11,
   "id": "6f71dafb",
   "metadata": {},
   "outputs": [],
   "source": [
    "#CountVectorizer + Random Forest   \n",
    "pipe_cvec_rf = Pipeline([('cvec', CountVectorizer()),('rf', RandomForestClassifier())])\n",
    "\n",
    "#TfidfVectorizer + Random Forest       \n",
    "pipe_tfidf_rf = Pipeline([('tfidf', TfidfVectorizer()),('rf', RandomForestClassifier())])\n",
    "\n",
    "#CountVectorizer + LogisticRegression\n",
    "pipe_cvec_logreg = Pipeline([('cvec', CountVectorizer()),('logreg', LogisticRegression())])\n",
    "\n",
    "#TfidfVectorizer + LogisticRegression\n",
    "pipe_tfidf_logreg = Pipeline([('tfidf', TfidfVectorizer()),('logreg', LogisticRegression())])\n",
    "\n",
    "#CountVectorizer + Multinomial Naive Bayes\n",
    "pipe_cvec_nb = Pipeline([('cvec', CountVectorizer()), ('nb', MultinomialNB())])\n",
    "\n",
    "#TfidfVectorizer + Multinomial Naive Bayes\n",
    "pipe_tfidf_nb = Pipeline([('tfidf', TfidfVectorizer()),('nb', MultinomialNB())])"
   ]
  },
  {
   "cell_type": "markdown",
   "id": "c59c9c26",
   "metadata": {},
   "source": [
    "### Gridsearch Parameters"
   ]
  },
  {
   "cell_type": "code",
   "execution_count": 12,
   "id": "80c95454",
   "metadata": {},
   "outputs": [],
   "source": [
    "params_cvec_rf = {\n",
    "    'cvec__max_features' : [1000, 2000, 5000],\n",
    "    'cvec__stop_words': [stoplist, None],\n",
    "    'cvec__ngram_range': [(1,1), (1,2)],\n",
    "    'rf__max_depth' : [1, 3, 5],\n",
    "    'rf__n_estimators': [50, 200],\n",
    "    'rf__max_features': [None, 3, 4]\n",
    "}\n",
    "\n",
    "params_tfidf_rf = {\n",
    "    'tfidf__max_features' : [1000, 2000, 5000],\n",
    "    'tfidf__stop_words': [stoplist, None],\n",
    "    'tfidf__ngram_range': [(1,1), (1,2)],\n",
    "    'rf__max_depth' : [1, 3, 5],\n",
    "    'rf__n_estimators': [50, 200],\n",
    "    'rf__max_features': [None, 3, 4]\n",
    "}\n",
    "\n",
    "\n",
    "params_cvec_logreg = {\n",
    "    'cvec__max_features' : [1000, 2000, 5000],\n",
    "    'cvec__stop_words': [stoplist, None],\n",
    "    'cvec__ngram_range': [(1,1), (1,2)],\n",
    "    'logreg__penalty': ['l1','l2'],\n",
    "    'logreg__C': [100, 10, 1.0, 0.1, 0.01],\n",
    "    'logreg__solver': ['liblinear']\n",
    "}\n",
    "\n",
    "params_tfidf_logreg = {\n",
    "    'tfidf__max_features' : [1000, 2000, 5000],\n",
    "    'tfidf__stop_words': [stoplist, None],\n",
    "    'tfidf__ngram_range': [(1,1), (1,2)],\n",
    "    'logreg__penalty': ['l1','l2'],\n",
    "    'logreg__C': [100, 10, 1.0, 0.1, 0.01],\n",
    "    'logreg__solver': ['liblinear']\n",
    "}\n",
    "\n",
    "params_cvec_nb = {\n",
    "    'cvec__max_features' : [1000, 2000, 5000],\n",
    "    'cvec__stop_words': [stoplist, None],\n",
    "    'cvec__ngram_range': [(1,1), (1,2)],\n",
    "    'cvec__min_df': [2, 3], # remove terms that appear in less than n documents\n",
    "    'cvec__max_df': [.85, .9, .95], # remove frequent terms in n% of documents\n",
    "}\n",
    "\n",
    "\n",
    "params_tfidf_nb = {\n",
    "    'tfidf__max_features' : [1000, 2000, 5000],\n",
    "    'tfidf__stop_words': [stoplist, None],\n",
    "    'tfidf__ngram_range': [(1,1), (1,2)],\n",
    "    'tfidf__min_df': [2, 3],\n",
    "    'tfidf__max_df': [0.8, 0.9]\n",
    "}\n"
   ]
  },
  {
   "cell_type": "markdown",
   "id": "75521794",
   "metadata": {},
   "source": [
    "#### Functions to run each model\n",
    "As we are going to run GridSearch for the 6 different models (RandomForest-CountVectorizer, RandomForest - TfidVectorizer, MultinomialNB - CountVectorizer, MultinomialNB - TfidVectorizer , LogisticRegression - CountVectorizer and LogisticRegression - TfidVectorizer), let us create a function"
   ]
  },
  {
   "cell_type": "code",
   "execution_count": 13,
   "id": "e82a655a",
   "metadata": {},
   "outputs": [],
   "source": [
    "#storing results in a dictionary for dataframe display later\n",
    "results = {}"
   ]
  },
  {
   "cell_type": "code",
   "execution_count": 14,
   "id": "cad997ea",
   "metadata": {},
   "outputs": [],
   "source": [
    "#Define function to run Pipeline + GridsearchCV\n",
    "from sklearn.metrics import ConfusionMatrixDisplay\n",
    "\n",
    "\n",
    "def run_model(pipeline, params, model_name = ''):\n",
    "\n",
    "    # Instantiate GridsearchCV\n",
    "    gs = GridSearchCV(pipeline, params, cv = 3, n_jobs = -1)\n",
    "    # Fit the Gridsearch to Training data\n",
    "    gs.fit(X_train, y_train)\n",
    "    # Print the best score found on training data\n",
    "    print('Best Score:', gs.best_score_)\n",
    "    # Print the best parameters found on training data\n",
    "    print('Best Parameters:', gs.best_params_)\n",
    "    # Use the best estimator that gave the highest score\n",
    "    gs_model = gs.best_estimator_\n",
    "    #Score model on Training data\n",
    "    train_score = gs_model.score(X_train,y_train)\n",
    "    print('Score on Training Data:', gs_model.score(X_train, y_train))\n",
    "    # Score model on Testing data\n",
    "    test_score = gs_model.score(X_test, y_test)\n",
    "    print('Score on Testing Data:', gs_model.score(X_test, y_test))\n",
    "    \n",
    "    # Generalization difference\n",
    "    gen_diff = round((1 - test_score/train_score) * 100,4)\n",
    "    print(f'Generalization Difference: {gen_diff}%')\n",
    "\n",
    "    # Get predictions\n",
    "    y_pred = gs_model.predict(X_test)\n",
    "    \n",
    "    # Calculate ROC_AUC score\n",
    "    y_proba = gs.predict_proba(X_test)\n",
    "    auc = round(roc_auc_score(y_test, y_proba[:,1]),4)\n",
    "\n",
    "    # Confusion Matrix\n",
    "    cm = confusion_matrix(y_test,y_pred)\n",
    "\n",
    "    # Plot Confusion Matrix\n",
    "    disp = ConfusionMatrixDisplay(confusion_matrix=cm)\n",
    "    disp.plot(cmap='Blues')\n",
    "    plt.show()\n",
    "\n",
    "\n",
    "    # Save confusion matrix values\n",
    "    tn, fp, fn, tp = confusion_matrix(y_test, y_pred).ravel()\n",
    "    # Print the different metrics\n",
    "    # Append metrics and scores to the dictionary\n",
    "    accuracy = accuracy_score(y_test, y_pred) #Accuracy\n",
    "    print('Accuracy on test data:', accuracy)\n",
    "    precision = tp / (tp + fp) #Precision\n",
    "    print('Precision:', precision)\n",
    "    recall = tp / (tp + fn) #Sensitivity, Recall\n",
    "    print('Recall:', recall)\n",
    "    f1_score = 2 * (precision * recall) / (precision + recall) #F1\n",
    "    print('F1:', f1_score)\n",
    "    \n",
    "    # 'Append' accuracy scores to 'results' dictinoary\n",
    "    results[model_name] = [train_score, test_score, gen_diff, f1_score, auc]\n",
    "    \n",
    "    "
   ]
  },
  {
   "cell_type": "markdown",
   "id": "015ea293",
   "metadata": {},
   "source": [
    "## Random Forest"
   ]
  },
  {
   "cell_type": "markdown",
   "id": "0aadfbd8",
   "metadata": {},
   "source": [
    "The random forest is a classification algorithm consisting of many decisions trees. It uses bagging and feature randomness when building each individual tree to try to create an uncorrelated forest of trees whose prediction by committee is more accurate than that of any individual tree.\n",
    "\n",
    "We will run the random forest model with gridsearch across the parameters above using both vectorization methods."
   ]
  },
  {
   "cell_type": "markdown",
   "id": "22a68e07",
   "metadata": {},
   "source": [
    "### RandomForest + CountVect"
   ]
  },
  {
   "cell_type": "code",
   "execution_count": 15,
   "id": "48cd09c9",
   "metadata": {
    "scrolled": false
   },
   "outputs": [
    {
     "name": "stdout",
     "output_type": "stream",
     "text": [
      "Best Score: 0.8236129157535997\n",
      "Best Parameters: {'cvec__max_features': 1000, 'cvec__ngram_range': (1, 1), 'cvec__stop_words': ['i', 'me', 'my', 'myself', 'we', 'our', 'ours', 'ourselves', 'you', \"you're\", \"you've\", \"you'll\", \"you'd\", 'your', 'yours', 'yourself', 'yourselves', 'he', 'him', 'his', 'himself', 'she', \"she's\", 'her', 'hers', 'herself', 'it', \"it's\", 'its', 'itself', 'they', 'them', 'their', 'theirs', 'themselves', 'what', 'which', 'who', 'whom', 'this', 'that', \"that'll\", 'these', 'those', 'am', 'is', 'are', 'was', 'were', 'be', 'been', 'being', 'have', 'has', 'had', 'having', 'do', 'does', 'did', 'doing', 'a', 'an', 'the', 'and', 'but', 'if', 'or', 'because', 'as', 'until', 'while', 'of', 'at', 'by', 'for', 'with', 'about', 'against', 'between', 'into', 'through', 'during', 'before', 'after', 'above', 'below', 'to', 'from', 'up', 'down', 'in', 'out', 'on', 'off', 'over', 'under', 'again', 'further', 'then', 'once', 'here', 'there', 'when', 'where', 'why', 'how', 'all', 'any', 'both', 'each', 'few', 'more', 'most', 'other', 'some', 'such', 'no', 'nor', 'not', 'only', 'own', 'same', 'so', 'than', 'too', 'very', 's', 't', 'can', 'will', 'just', 'don', \"don't\", 'should', \"should've\", 'now', 'd', 'll', 'm', 'o', 're', 've', 'y', 'ain', 'aren', \"aren't\", 'couldn', \"couldn't\", 'didn', \"didn't\", 'doesn', \"doesn't\", 'hadn', \"hadn't\", 'hasn', \"hasn't\", 'haven', \"haven't\", 'isn', \"isn't\", 'ma', 'mightn', \"mightn't\", 'mustn', \"mustn't\", 'needn', \"needn't\", 'shan', \"shan't\", 'shouldn', \"shouldn't\", 'wasn', \"wasn't\", 'weren', \"weren't\", 'won', \"won't\", 'wouldn', \"wouldn't\", 'crypto', 'mining', 'cryptocurrency', 'ethermining', 'ampx200b'], 'rf__max_depth': 5, 'rf__max_features': 3, 'rf__n_estimators': 200}\n",
      "Score on Training Data: 0.8232574679943101\n",
      "Score on Testing Data: 0.7761194029850746\n",
      "Generalization Difference: 5.7258%\n"
     ]
    },
    {
     "data": {
      "image/png": "[encoded data removed]",
      "text/plain": [
       "<Figure size 432x288 with 2 Axes>"
      ]
     },
     "metadata": {
      "needs_background": "light"
     },
     "output_type": "display_data"
    },
    {
     "name": "stdout",
     "output_type": "stream",
     "text": [
      "Accuracy on test data: 0.7761194029850746\n",
      "Precision: 0.6989247311827957\n",
      "Recall: 0.9701492537313433\n",
      "F1: 0.8125\n"
     ]
    }
   ],
   "source": [
    "run_model(pipe_cvec_rf, params_cvec_rf, model_name = 'cvec_rf')"
   ]
  },
  {
   "cell_type": "markdown",
   "id": "be91b856",
   "metadata": {},
   "source": [
    "### RandomForest + TFIDF"
   ]
  },
  {
   "cell_type": "code",
   "execution_count": 16,
   "id": "fb4cd78a",
   "metadata": {
    "scrolled": false
   },
   "outputs": [
    {
     "name": "stdout",
     "output_type": "stream",
     "text": [
      "Best Score: 0.8069035065562566\n",
      "Best Parameters: {'rf__max_depth': 5, 'rf__max_features': 3, 'rf__n_estimators': 200, 'tfidf__max_features': 2000, 'tfidf__ngram_range': (1, 1), 'tfidf__stop_words': ['i', 'me', 'my', 'myself', 'we', 'our', 'ours', 'ourselves', 'you', \"you're\", \"you've\", \"you'll\", \"you'd\", 'your', 'yours', 'yourself', 'yourselves', 'he', 'him', 'his', 'himself', 'she', \"she's\", 'her', 'hers', 'herself', 'it', \"it's\", 'its', 'itself', 'they', 'them', 'their', 'theirs', 'themselves', 'what', 'which', 'who', 'whom', 'this', 'that', \"that'll\", 'these', 'those', 'am', 'is', 'are', 'was', 'were', 'be', 'been', 'being', 'have', 'has', 'had', 'having', 'do', 'does', 'did', 'doing', 'a', 'an', 'the', 'and', 'but', 'if', 'or', 'because', 'as', 'until', 'while', 'of', 'at', 'by', 'for', 'with', 'about', 'against', 'between', 'into', 'through', 'during', 'before', 'after', 'above', 'below', 'to', 'from', 'up', 'down', 'in', 'out', 'on', 'off', 'over', 'under', 'again', 'further', 'then', 'once', 'here', 'there', 'when', 'where', 'why', 'how', 'all', 'any', 'both', 'each', 'few', 'more', 'most', 'other', 'some', 'such', 'no', 'nor', 'not', 'only', 'own', 'same', 'so', 'than', 'too', 'very', 's', 't', 'can', 'will', 'just', 'don', \"don't\", 'should', \"should've\", 'now', 'd', 'll', 'm', 'o', 're', 've', 'y', 'ain', 'aren', \"aren't\", 'couldn', \"couldn't\", 'didn', \"didn't\", 'doesn', \"doesn't\", 'hadn', \"hadn't\", 'hasn', \"hasn't\", 'haven', \"haven't\", 'isn', \"isn't\", 'ma', 'mightn', \"mightn't\", 'mustn', \"mustn't\", 'needn', \"needn't\", 'shan', \"shan't\", 'shouldn', \"shouldn't\", 'wasn', \"wasn't\", 'weren', \"weren't\", 'won', \"won't\", 'wouldn', \"wouldn't\", 'crypto', 'mining', 'cryptocurrency', 'ethermining', 'ampx200b']}\n",
      "Score on Training Data: 0.8317923186344239\n",
      "Score on Testing Data: 0.7867803837953091\n",
      "Generalization Difference: 5.4114%\n"
     ]
    },
    {
     "data": {
      "image/png": "[encoded data removed]",
      "text/plain": [
       "<Figure size 432x288 with 2 Axes>"
      ]
     },
     "metadata": {
      "needs_background": "light"
     },
     "output_type": "display_data"
    },
    {
     "name": "stdout",
     "output_type": "stream",
     "text": [
      "Accuracy on test data: 0.7867803837953091\n",
      "Precision: 0.7131537242472267\n",
      "Recall: 0.9594882729211087\n",
      "F1: 0.8181818181818181\n"
     ]
    }
   ],
   "source": [
    "run_model(pipe_tfidf_rf, params_tfidf_rf, model_name = 'tfidf_rf')"
   ]
  },
  {
   "cell_type": "markdown",
   "id": "43737f23",
   "metadata": {},
   "source": [
    "From the above confusion matrix, we note that the random forest model does not perform too well and predicts too many false positives. This is reflective in its precision score."
   ]
  },
  {
   "cell_type": "markdown",
   "id": "352975a4",
   "metadata": {},
   "source": [
    "### LogisticRegression + CountVect"
   ]
  },
  {
   "cell_type": "code",
   "execution_count": 17,
   "id": "1ed5284a",
   "metadata": {
    "scrolled": false
   },
   "outputs": [
    {
     "name": "stderr",
     "output_type": "stream",
     "text": [
      "/Users/soz/opt/anaconda3/lib/python3.9/site-packages/sklearn/svm/_base.py:985: ConvergenceWarning: Liblinear failed to converge, increase the number of iterations.\n",
      "  warnings.warn(\"Liblinear failed to converge, increase \"\n",
      "/Users/soz/opt/anaconda3/lib/python3.9/site-packages/sklearn/svm/_base.py:985: ConvergenceWarning: Liblinear failed to converge, increase the number of iterations.\n",
      "  warnings.warn(\"Liblinear failed to converge, increase \"\n"
     ]
    },
    {
     "name": "stdout",
     "output_type": "stream",
     "text": [
      "Best Score: 0.8741059908568151\n",
      "Best Parameters: {'cvec__max_features': 5000, 'cvec__ngram_range': (1, 1), 'cvec__stop_words': None, 'logreg__C': 1.0, 'logreg__penalty': 'l2', 'logreg__solver': 'liblinear'}\n",
      "Score on Training Data: 0.972972972972973\n",
      "Score on Testing Data: 0.8614072494669509\n",
      "Generalization Difference: 11.4665%\n"
     ]
    },
    {
     "data": {
      "image/png": "[encoded data removed]",
      "text/plain": [
       "<Figure size 432x288 with 2 Axes>"
      ]
     },
     "metadata": {
      "needs_background": "light"
     },
     "output_type": "display_data"
    },
    {
     "name": "stdout",
     "output_type": "stream",
     "text": [
      "Accuracy on test data: 0.8614072494669509\n",
      "Precision: 0.829126213592233\n",
      "Recall: 0.9104477611940298\n",
      "F1: 0.8678861788617886\n"
     ]
    }
   ],
   "source": [
    "run_model(pipe_cvec_logreg, params_cvec_logreg, model_name = 'cvec_logreg')"
   ]
  },
  {
   "cell_type": "markdown",
   "id": "57223b3a",
   "metadata": {},
   "source": [
    "### LogisticRegression + TFIDF"
   ]
  },
  {
   "cell_type": "code",
   "execution_count": 18,
   "id": "5c4cdd16",
   "metadata": {
    "scrolled": false
   },
   "outputs": [
    {
     "name": "stdout",
     "output_type": "stream",
     "text": [
      "Best Score: 0.8765939323052369\n",
      "Best Parameters: {'logreg__C': 1.0, 'logreg__penalty': 'l2', 'logreg__solver': 'liblinear', 'tfidf__max_features': 5000, 'tfidf__ngram_range': (1, 1), 'tfidf__stop_words': None}\n",
      "Score on Training Data: 0.9402560455192034\n",
      "Score on Testing Data: 0.8848614072494669\n",
      "Generalization Difference: 5.8914%\n"
     ]
    },
    {
     "data": {
      "image/png": "[encoded data removed]",
      "text/plain": [
       "<Figure size 432x288 with 2 Axes>"
      ]
     },
     "metadata": {
      "needs_background": "light"
     },
     "output_type": "display_data"
    },
    {
     "name": "stdout",
     "output_type": "stream",
     "text": [
      "Accuracy on test data: 0.8848614072494669\n",
      "Precision: 0.8504854368932039\n",
      "Recall: 0.9339019189765458\n",
      "F1: 0.8902439024390244\n"
     ]
    }
   ],
   "source": [
    "run_model(pipe_tfidf_logreg, params_tfidf_logreg, model_name = 'tfidf_logreg')"
   ]
  },
  {
   "cell_type": "markdown",
   "id": "70f9b192",
   "metadata": {},
   "source": [
    "### Naive Bayes model + CountVect"
   ]
  },
  {
   "cell_type": "code",
   "execution_count": 19,
   "id": "fdad0cd1",
   "metadata": {
    "scrolled": false
   },
   "outputs": [
    {
     "name": "stdout",
     "output_type": "stream",
     "text": [
      "Best Score: 0.8748205155045022\n",
      "Best Parameters: {'cvec__max_df': 0.85, 'cvec__max_features': 5000, 'cvec__min_df': 2, 'cvec__ngram_range': (1, 1), 'cvec__stop_words': None}\n",
      "Score on Training Data: 0.9086059743954481\n",
      "Score on Testing Data: 0.8859275053304904\n",
      "Generalization Difference: 2.496%\n"
     ]
    },
    {
     "data": {
      "image/png": "[encoded data removed]",
      "text/plain": [
       "<Figure size 432x288 with 2 Axes>"
      ]
     },
     "metadata": {
      "needs_background": "light"
     },
     "output_type": "display_data"
    },
    {
     "name": "stdout",
     "output_type": "stream",
     "text": [
      "Accuracy on test data: 0.8859275053304904\n",
      "Precision: 0.8549019607843137\n",
      "Recall: 0.929637526652452\n",
      "F1: 0.8907048008171603\n"
     ]
    }
   ],
   "source": [
    "run_model(pipe_cvec_nb, params_cvec_nb, model_name = 'cvec_nb')"
   ]
  },
  {
   "cell_type": "markdown",
   "id": "9c6cd2f1",
   "metadata": {},
   "source": [
    "### Naive Bayes model + TFIDF"
   ]
  },
  {
   "cell_type": "code",
   "execution_count": 20,
   "id": "8d6d5124",
   "metadata": {
    "scrolled": false
   },
   "outputs": [
    {
     "name": "stdout",
     "output_type": "stream",
     "text": [
      "Best Score: 0.8637943079237141\n",
      "Best Parameters: {'tfidf__max_df': 0.8, 'tfidf__max_features': 5000, 'tfidf__min_df': 2, 'tfidf__ngram_range': (1, 2), 'tfidf__stop_words': None}\n",
      "Score on Training Data: 0.916429587482219\n",
      "Score on Testing Data: 0.8827292110874201\n",
      "Generalization Difference: 3.6774%\n"
     ]
    },
    {
     "data": {
      "image/png": "[encoded data removed]",
      "text/plain": [
       "<Figure size 432x288 with 2 Axes>"
      ]
     },
     "metadata": {
      "needs_background": "light"
     },
     "output_type": "display_data"
    },
    {
     "name": "stdout",
     "output_type": "stream",
     "text": [
      "Accuracy on test data: 0.8827292110874201\n",
      "Precision: 0.8778947368421053\n",
      "Recall: 0.8891257995735607\n",
      "F1: 0.8834745762711864\n"
     ]
    }
   ],
   "source": [
    "run_model(pipe_tfidf_nb, params_tfidf_nb, model_name = 'tfidf_nb')"
   ]
  },
  {
   "cell_type": "code",
   "execution_count": 21,
   "id": "26759642",
   "metadata": {
    "scrolled": true
   },
   "outputs": [
    {
     "data": {
      "text/plain": [
       "{'cvec_rf': [0.8232574679943101, 0.7761194029850746, 5.7258, 0.8125, 0.9096],\n",
       " 'tfidf_rf': [0.8317923186344239,\n",
       "  0.7867803837953091,\n",
       "  5.4114,\n",
       "  0.8181818181818181,\n",
       "  0.9018],\n",
       " 'cvec_logreg': [0.972972972972973,\n",
       "  0.8614072494669509,\n",
       "  11.4665,\n",
       "  0.8678861788617886,\n",
       "  0.9414],\n",
       " 'tfidf_logreg': [0.9402560455192034,\n",
       "  0.8848614072494669,\n",
       "  5.8914,\n",
       "  0.8902439024390244,\n",
       "  0.9544],\n",
       " 'cvec_nb': [0.9086059743954481,\n",
       "  0.8859275053304904,\n",
       "  2.496,\n",
       "  0.8907048008171603,\n",
       "  0.9427],\n",
       " 'tfidf_nb': [0.916429587482219,\n",
       "  0.8827292110874201,\n",
       "  3.6774,\n",
       "  0.8834745762711864,\n",
       "  0.9524]}"
      ]
     },
     "execution_count": 21,
     "metadata": {},
     "output_type": "execute_result"
    }
   ],
   "source": [
    "results"
   ]
  },
  {
   "cell_type": "code",
   "execution_count": 22,
   "id": "81826b1a",
   "metadata": {
    "scrolled": true
   },
   "outputs": [
    {
     "data": {
      "text/html": [
       "<div>\n",
       "<style scoped>\n",
       "    .dataframe tbody tr th:only-of-type {\n",
       "        vertical-align: middle;\n",
       "    }\n",
       "\n",
       "    .dataframe tbody tr th {\n",
       "        vertical-align: top;\n",
       "    }\n",
       "\n",
       "    .dataframe thead th {\n",
       "        text-align: right;\n",
       "    }\n",
       "</style>\n",
       "<table border=\"1\" class=\"dataframe\">\n",
       "  <thead>\n",
       "    <tr style=\"text-align: right;\">\n",
       "      <th></th>\n",
       "      <th>train_score</th>\n",
       "      <th>test_score</th>\n",
       "      <th>generalisation</th>\n",
       "      <th>f1_score</th>\n",
       "      <th>roc_auc_score</th>\n",
       "    </tr>\n",
       "  </thead>\n",
       "  <tbody>\n",
       "    <tr>\n",
       "      <th>cvec_rf</th>\n",
       "      <td>0.823257</td>\n",
       "      <td>0.776119</td>\n",
       "      <td>5.7258</td>\n",
       "      <td>0.812500</td>\n",
       "      <td>0.9096</td>\n",
       "    </tr>\n",
       "    <tr>\n",
       "      <th>tfidf_rf</th>\n",
       "      <td>0.831792</td>\n",
       "      <td>0.786780</td>\n",
       "      <td>5.4114</td>\n",
       "      <td>0.818182</td>\n",
       "      <td>0.9018</td>\n",
       "    </tr>\n",
       "    <tr>\n",
       "      <th>cvec_logreg</th>\n",
       "      <td>0.972973</td>\n",
       "      <td>0.861407</td>\n",
       "      <td>11.4665</td>\n",
       "      <td>0.867886</td>\n",
       "      <td>0.9414</td>\n",
       "    </tr>\n",
       "    <tr>\n",
       "      <th>tfidf_logreg</th>\n",
       "      <td>0.940256</td>\n",
       "      <td>0.884861</td>\n",
       "      <td>5.8914</td>\n",
       "      <td>0.890244</td>\n",
       "      <td>0.9544</td>\n",
       "    </tr>\n",
       "    <tr>\n",
       "      <th>cvec_nb</th>\n",
       "      <td>0.908606</td>\n",
       "      <td>0.885928</td>\n",
       "      <td>2.4960</td>\n",
       "      <td>0.890705</td>\n",
       "      <td>0.9427</td>\n",
       "    </tr>\n",
       "    <tr>\n",
       "      <th>tfidf_nb</th>\n",
       "      <td>0.916430</td>\n",
       "      <td>0.882729</td>\n",
       "      <td>3.6774</td>\n",
       "      <td>0.883475</td>\n",
       "      <td>0.9524</td>\n",
       "    </tr>\n",
       "  </tbody>\n",
       "</table>\n",
       "</div>"
      ],
      "text/plain": [
       "              train_score  test_score  generalisation  f1_score  roc_auc_score\n",
       "cvec_rf          0.823257    0.776119          5.7258  0.812500         0.9096\n",
       "tfidf_rf         0.831792    0.786780          5.4114  0.818182         0.9018\n",
       "cvec_logreg      0.972973    0.861407         11.4665  0.867886         0.9414\n",
       "tfidf_logreg     0.940256    0.884861          5.8914  0.890244         0.9544\n",
       "cvec_nb          0.908606    0.885928          2.4960  0.890705         0.9427\n",
       "tfidf_nb         0.916430    0.882729          3.6774  0.883475         0.9524"
      ]
     },
     "execution_count": 22,
     "metadata": {},
     "output_type": "execute_result"
    }
   ],
   "source": [
    "# Convert results dictionary into Dataframe for analysis\n",
    "results_df = pd.DataFrame.from_dict(results, orient='index', columns=['train_score', 'test_score', 'generalisation',\n",
    "                                                                      'f1_score', 'roc_auc_score'])\n",
    "results_df"
   ]
  },
  {
   "cell_type": "code",
   "execution_count": 33,
   "id": "0473daba",
   "metadata": {},
   "outputs": [
    {
     "name": "stdout",
     "output_type": "stream",
     "text": [
      "|   train_score |   test_score |   generalisation |   f1_score |   roc_auc_score |\n",
      "|--------------:|-------------:|-----------------:|-----------:|----------------:|\n",
      "|      0.823257 |     0.776119 |           5.7258 |   0.8125   |          0.9096 |\n",
      "|      0.831792 |     0.78678  |           5.4114 |   0.818182 |          0.9018 |\n",
      "|      0.972973 |     0.861407 |          11.4665 |   0.867886 |          0.9414 |\n",
      "|      0.940256 |     0.884861 |           5.8914 |   0.890244 |          0.9544 |\n",
      "|      0.908606 |     0.885928 |           2.496  |   0.890705 |          0.9427 |\n",
      "|      0.91643  |     0.882729 |           3.6774 |   0.883475 |          0.9524 |\n"
     ]
    }
   ],
   "source": [
    "print(results_df.to_markdown(index=False))"
   ]
  },
  {
   "cell_type": "markdown",
   "id": "dea5d76c",
   "metadata": {},
   "source": [
    "# AUC - ROC Curve"
   ]
  },
  {
   "cell_type": "code",
   "execution_count": 23,
   "id": "a92d2241",
   "metadata": {},
   "outputs": [],
   "source": [
    "#setting up models for AUC-ROC curve\n",
    "grid_log_tfidf = GridSearchCV(pipe_tfidf_logreg,\n",
    "                              param_grid=params_tfidf_logreg,\n",
    "                              cv=3)\n",
    "\n",
    "grid_log_cvec = GridSearchCV(pipe_cvec_logreg,\n",
    "                             param_grid=params_cvec_logreg,\n",
    "                              cv=3)\n",
    "\n",
    "grid_rf_cvec = GridSearchCV(pipe_cvec_rf,\n",
    "                            param_grid=params_cvec_rf,\n",
    "                            cv=3)\n",
    "\n",
    "grid_rf_tfidf = GridSearchCV(pipe_tfidf_rf,\n",
    "                            param_grid=params_tfidf_rf,\n",
    "                            cv=3)\n",
    "\n",
    "grid_nb_tfidf = GridSearchCV(pipe_tfidf_nb,\n",
    "                            param_grid=params_tfidf_nb,\n",
    "                            cv=3)\n",
    "\n",
    "grid_nb_cvec = GridSearchCV(pipe_cvec_nb,\n",
    "                           param_grid=params_cvec_nb,\n",
    "                           cv=3)"
   ]
  },
  {
   "cell_type": "code",
   "execution_count": 24,
   "id": "5c365775",
   "metadata": {},
   "outputs": [
    {
     "name": "stderr",
     "output_type": "stream",
     "text": [
      "/Users/soz/opt/anaconda3/lib/python3.9/site-packages/sklearn/svm/_base.py:985: ConvergenceWarning: Liblinear failed to converge, increase the number of iterations.\n",
      "  warnings.warn(\"Liblinear failed to converge, increase \"\n",
      "/Users/soz/opt/anaconda3/lib/python3.9/site-packages/sklearn/svm/_base.py:985: ConvergenceWarning: Liblinear failed to converge, increase the number of iterations.\n",
      "  warnings.warn(\"Liblinear failed to converge, increase \"\n"
     ]
    },
    {
     "data": {
      "image/png": "[encoded data removed]",
      "text/plain": [
       "<Figure size 432x288 with 1 Axes>"
      ]
     },
     "metadata": {
      "needs_background": "light"
     },
     "output_type": "display_data"
    }
   ],
   "source": [
    "#set up plotting area\n",
    "plt.figure(0).clf()\n",
    "\n",
    "#fit log tfidf model and plot ROC curve\n",
    "grid_log_tfidf.fit(X_train, y_train)\n",
    "y_pred = grid_log_tfidf.predict_proba(X_test)[:, 1]\n",
    "fpr, tpr, _ = metrics.roc_curve(y_test, y_pred)\n",
    "auc = round(metrics.roc_auc_score(y_test, y_pred), 3)\n",
    "plt.plot(fpr,tpr,label=\"log reg-tfidf, AUC=\"+str(auc))\n",
    "\n",
    "#fit log cvec model and plot ROC curve\n",
    "grid_log_cvec.fit(X_train, y_train)\n",
    "y_pred = grid_log_cvec.predict_proba(X_test)[:, 1]\n",
    "fpr, tpr, _ = metrics.roc_curve(y_test, y_pred)\n",
    "auc = round(metrics.roc_auc_score(y_test, y_pred), 3)\n",
    "plt.plot(fpr,tpr,label=\"log reg-cvec, AUC=\"+str(auc))\n",
    "\n",
    "#fit random forest cvec model and plot ROC curve\n",
    "grid_rf_cvec.fit(X_train, y_train)\n",
    "y_pred = grid_rf_cvec.predict_proba(X_test)[:, 1]\n",
    "fpr, tpr, _ = metrics.roc_curve(y_test, y_pred)\n",
    "auc = round(metrics.roc_auc_score(y_test, y_pred), 3)\n",
    "plt.plot(fpr,tpr,label=\"rf-cvec, AUC=\"+str(auc))\n",
    "\n",
    "#fit random forest tfidf and plot ROC curve\n",
    "grid_rf_tfidf.fit(X_train, y_train)\n",
    "y_pred = grid_rf_tfidf.predict_proba(X_test)[:, 1]\n",
    "fpr, tpr, _ = metrics.roc_curve(y_test, y_pred)\n",
    "auc = round(metrics.roc_auc_score(y_test, y_pred), 3)\n",
    "plt.plot(fpr,tpr,label=\"rf-tfidf, AUC=\"+str(auc))\n",
    "\n",
    "#fit naive bayes tfidf and plot ROC curve\n",
    "grid_nb_tfidf.fit(X_train, y_train)\n",
    "y_pred = grid_nb_tfidf.predict_proba(X_test)[:, 1]\n",
    "fpr, tpr, _ = metrics.roc_curve(y_test, y_pred)\n",
    "auc = round(metrics.roc_auc_score(y_test, y_pred), 3)\n",
    "plt.plot(fpr,tpr,label=\"nb-tfidf, AUC=\"+str(auc))\n",
    "\n",
    "#fit naive bayes cvec and plot ROC curve\n",
    "grid_nb_cvec.fit(X_train, y_train)\n",
    "y_pred = grid_nb_cvec.predict_proba(X_test)[:, 1]\n",
    "fpr, tpr, _ = metrics.roc_curve(y_test, y_pred)\n",
    "auc = round(metrics.roc_auc_score(y_test, y_pred), 3)\n",
    "plt.plot(fpr,tpr,label=\"nb-cvec, AUC=\"+str(auc))\n",
    "\n",
    "#add legend\n",
    "plt.legend();"
   ]
  },
  {
   "cell_type": "code",
   "execution_count": 25,
   "id": "c2aecbde",
   "metadata": {
    "scrolled": false
   },
   "outputs": [
    {
     "data": {
      "text/plain": [
       "GridSearchCV(cv=3,\n",
       "             estimator=Pipeline(steps=[('cvec', CountVectorizer()),\n",
       "                                       ('nb', MultinomialNB())]),\n",
       "             param_grid={'cvec__max_df': [0.85, 0.9, 0.95],\n",
       "                         'cvec__max_features': [1000, 2000, 5000],\n",
       "                         'cvec__min_df': [2, 3],\n",
       "                         'cvec__ngram_range': [(1, 1), (1, 2)],\n",
       "                         'cvec__stop_words': [['i', 'me', 'my', 'myself', 'we',\n",
       "                                               'our', 'ours', 'ourselves',\n",
       "                                               'you', \"you're\", \"you've\",\n",
       "                                               \"you'll\", \"you'd\", 'your',\n",
       "                                               'yours', 'yourself',\n",
       "                                               'yourselves', 'he', 'him', 'his',\n",
       "                                               'himself', 'she', \"she's\", 'her',\n",
       "                                               'hers', 'herself', 'it', \"it's\",\n",
       "                                               'its', 'itself', ...],\n",
       "                                              None]})"
      ]
     },
     "execution_count": 25,
     "metadata": {},
     "output_type": "execute_result"
    }
   ],
   "source": [
    "grid_nb_cvec.fit(X_train, y_train)"
   ]
  },
  {
   "cell_type": "code",
   "execution_count": 26,
   "id": "7cd9a128",
   "metadata": {},
   "outputs": [],
   "source": [
    "preds = grid_nb_cvec.predict(X_test)"
   ]
  },
  {
   "cell_type": "code",
   "execution_count": 27,
   "id": "7aed849b",
   "metadata": {},
   "outputs": [],
   "source": [
    "pred_df = pd.DataFrame(data=X_test)\n",
    "pred_df['actual'] = y_test\n",
    "pred_df['predicted'] = preds\n",
    "misclassified_df = pred_df[pred_df['actual'] != pred_df['predicted']]"
   ]
  },
  {
   "cell_type": "code",
   "execution_count": 29,
   "id": "cce8d364",
   "metadata": {
    "scrolled": true
   },
   "outputs": [
    {
     "data": {
      "text/html": [
       "<div>\n",
       "<style scoped>\n",
       "    .dataframe tbody tr th:only-of-type {\n",
       "        vertical-align: middle;\n",
       "    }\n",
       "\n",
       "    .dataframe tbody tr th {\n",
       "        vertical-align: top;\n",
       "    }\n",
       "\n",
       "    .dataframe thead th {\n",
       "        text-align: right;\n",
       "    }\n",
       "</style>\n",
       "<table border=\"1\" class=\"dataframe\">\n",
       "  <thead>\n",
       "    <tr style=\"text-align: right;\">\n",
       "      <th></th>\n",
       "      <th>alltext</th>\n",
       "      <th>actual</th>\n",
       "      <th>predicted</th>\n",
       "    </tr>\n",
       "  </thead>\n",
       "  <tbody>\n",
       "    <tr>\n",
       "      <th>700</th>\n",
       "      <td>862 for a new 3090 this man must be very desperate</td>\n",
       "      <td>0</td>\n",
       "      <td>1</td>\n",
       "    </tr>\n",
       "    <tr>\n",
       "      <th>2496</th>\n",
       "      <td>saw shping a while ago and it regularly does 200 300 350 upward movements it seems that it is about to happen again</td>\n",
       "      <td>1</td>\n",
       "      <td>0</td>\n",
       "    </tr>\n",
       "    <tr>\n",
       "      <th>1997</th>\n",
       "      <td>oh brother</td>\n",
       "      <td>0</td>\n",
       "      <td>1</td>\n",
       "    </tr>\n",
       "    <tr>\n",
       "      <th>1179</th>\n",
       "      <td>saw this and thought id share here as an fyi</td>\n",
       "      <td>0</td>\n",
       "      <td>1</td>\n",
       "    </tr>\n",
       "    <tr>\n",
       "      <th>1566</th>\n",
       "      <td>what is your way of glossing up crypto mining so for me i would always want to say im sophisticated and as a 16yearold it makes me feel good about it i would typically say that i assist in securin...</td>\n",
       "      <td>0</td>\n",
       "      <td>1</td>\n",
       "    </tr>\n",
       "  </tbody>\n",
       "</table>\n",
       "</div>"
      ],
      "text/plain": [
       "                                                                                                                                                                                                      alltext  \\\n",
       "700                                                                                                                                                        862 for a new 3090 this man must be very desperate   \n",
       "2496                                                                                      saw shping a while ago and it regularly does 200 300 350 upward movements it seems that it is about to happen again   \n",
       "1997                                                                                                                                                                                               oh brother   \n",
       "1179                                                                                                                                                             saw this and thought id share here as an fyi   \n",
       "1566  what is your way of glossing up crypto mining so for me i would always want to say im sophisticated and as a 16yearold it makes me feel good about it i would typically say that i assist in securin...   \n",
       "\n",
       "      actual  predicted  \n",
       "700        0          1  \n",
       "2496       1          0  \n",
       "1997       0          1  \n",
       "1179       0          1  \n",
       "1566       0          1  "
      ]
     },
     "execution_count": 29,
     "metadata": {},
     "output_type": "execute_result"
    }
   ],
   "source": [
    "#some examples of misclassified text\n",
    "misclassified_df.head(5)"
   ]
  },
  {
   "cell_type": "markdown",
   "id": "88e52922",
   "metadata": {},
   "source": [
    "# Conclusion & Recommendations\n",
    "\n",
    "Classification models, unlike regression models have multiple metrics which results may be based on. \n",
    "Accuracy is used when the True Positives and True negatives are more important while F1-score is used when the False Negatives and False Positives are crucial. F1 score is usually handy for imbalanced datasets (as its calculated based on Precision and Recall). Lastly, for the area under curve of a ROC curve, it measures the usefulness of a test in general, where a greater area means a more useful test, the areas under ROC curves are used to compare the usefulness of tests. AUC metric measure performance for the classification problem at various threshold settings.\n",
    "\n",
    "As we are not currently solving any specific problem statements and that we are dealing with a balanced dataset, the following considerations may be used in determining the \"best\" model.\n",
    "\n",
    "* Highest accuracy score\n",
    "* Best generalization score\n",
    "\n",
    "\n",
    "Form the results above, the most suited model for our specific classification task would be the Multinomial Naive Bayes with CountVectorizer model. It has the highest accuracy score and generalizes the best. It is worth noting\n",
    "that though we have chosen the MultinomialNB model to be the best performer, it is nicknamed “naive” due to the fact that the model treats all words equally. It ignores grammar rules and common phrases.\n",
    "\n",
    "However, there are definitely still things to consider especially in the event of a business setting: \n",
    "* AUC-ROC curve may not be the only indicator of finding the 'best' model when compared against other models.\n",
    "* Different functions may look at different metrics prior to deciding on which model to implement to production. (e.g Marketing/sale may focus on recall , whilst other functions may want to focus on precision etc)\n",
    "\n",
    "\n",
    "# Recommendations:\n",
    "* Better data cleaning via reggex to remove wallet addresses whilst retaining the graphics card specific numbers for example which are prevelant in ethermining subreddit would be good. As well as maybe having a spam filter to remove spam post which appear often in both subreddits. \n",
    "* We’re dealing with a balanced dataset. For imbalance dataset, class weights and over sampling techniques such as SMOTE may be implemented. F1 score could also come in handy for imbalanced datasets (as its calculated based on Precision and Recall).\n",
    "* May consider testing out other models which may perform better for such a task specific to this project."
   ]
  }
 ],
 "metadata": {
  "kernelspec": {
   "display_name": "Python 3 (ipykernel)",
   "language": "python",
   "name": "python3"
  },
  "language_info": {
   "codemirror_mode": {
    "name": "ipython",
    "version": 3
   },
   "file_extension": ".py",
   "mimetype": "text/x-python",
   "name": "python",
   "nbconvert_exporter": "python",
   "pygments_lexer": "ipython3",
   "version": "3.9.7"
  }
 },
 "nbformat": 4,
 "nbformat_minor": 5
}
